{
 "cells": [
  {
   "cell_type": "code",
   "execution_count": null,
   "id": "00044f84",
   "metadata": {},
   "outputs": [],
   "source": [
    "import pandas as pd \n",
    "import numpy as np\n",
    "import seaborn as sb\n",
    "import matplotlib.pyplot as plt"
   ]
  },
  {
   "cell_type": "code",
   "execution_count": null,
   "id": "4267d4cf",
   "metadata": {},
   "outputs": [],
   "source": [
    "import os"
   ]
  },
  {
   "cell_type": "code",
   "execution_count": null,
   "id": "0b113384",
   "metadata": {},
   "outputs": [],
   "source": [
    "os.listdir(r\"/Users/anu/Downloads/Datasets\")"
   ]
  },
  {
   "cell_type": "code",
   "execution_count": null,
   "id": "36633ac4",
   "metadata": {},
   "outputs": [],
   "source": [
    "uber_15=pd.read_csv(r'/Users/anu/Downloads/Datasets/uber-raw-data-janjune-15_sample.csv')"
   ]
  },
  {
   "cell_type": "code",
   "execution_count": null,
   "id": "ea211e83",
   "metadata": {},
   "outputs": [],
   "source": [
    "uber_15.drop_duplicates(inplace=True)"
   ]
  },
  {
   "cell_type": "code",
   "execution_count": null,
   "id": "25a458d1",
   "metadata": {},
   "outputs": [],
   "source": [
    "uber_15.duplicated().sum()"
   ]
  },
  {
   "cell_type": "code",
   "execution_count": null,
   "id": "c33810c8",
   "metadata": {},
   "outputs": [],
   "source": [
    "uber_15.dtypes"
   ]
  },
  {
   "cell_type": "code",
   "execution_count": null,
   "id": "fe36f62d",
   "metadata": {},
   "outputs": [],
   "source": [
    "uber_15.isnull().sum()\n"
   ]
  },
  {
   "cell_type": "code",
   "execution_count": null,
   "id": "a62ced59",
   "metadata": {},
   "outputs": [],
   "source": [
    "type(uber_15['Pickup_date'][0])"
   ]
  },
  {
   "cell_type": "code",
   "execution_count": null,
   "id": "92cb406a",
   "metadata": {},
   "outputs": [],
   "source": [
    "uber_15['Pickup_date'] = pd.to_datetime(uber_15['Pickup_date'])"
   ]
  },
  {
   "cell_type": "code",
   "execution_count": null,
   "id": "1526b6b2",
   "metadata": {},
   "outputs": [],
   "source": [
    "uber_15['Month']=uber_15['Pickup_date'].dt.month_name()\n",
    "print(uber_15)"
   ]
  },
  {
   "cell_type": "code",
   "execution_count": null,
   "id": "eeef7b46",
   "metadata": {},
   "outputs": [],
   "source": [
    "uber_15['Month'].value_counts().plot(kind='bar')\n",
    "\n"
   ]
  },
  {
   "cell_type": "code",
   "execution_count": null,
   "id": "d220f6c7",
   "metadata": {},
   "outputs": [],
   "source": [
    "uber_15['Weekday']=uber_15['Pickup_date'].dt.day_name()\n",
    "uber_15['day']=uber_15['Pickup_date'].dt.day\n",
    "uber_15['Hour']=uber_15['Pickup_date'].dt.hour\n",
    "uber_15['Minute']=uber_15['Pickup_date'].dt.minute"
   ]
  },
  {
   "cell_type": "code",
   "execution_count": null,
   "id": "8aa30853",
   "metadata": {},
   "outputs": [],
   "source": [
    "uber_15.head()"
   ]
  },
  {
   "cell_type": "code",
   "execution_count": null,
   "id": "7607f566",
   "metadata": {},
   "outputs": [],
   "source": [
    "#analysing monthly and weekday stats\n",
    "pivot=pd.crosstab(index=uber_15['Month'],columns=uber_15['Weekday'])\n",
    "pivot\n"
   ]
  },
  {
   "cell_type": "code",
   "execution_count": null,
   "id": "f96200af",
   "metadata": {},
   "outputs": [],
   "source": [
    "pivot.plot(kind='bar')\n"
   ]
  },
  {
   "cell_type": "code",
   "execution_count": null,
   "id": "2a186e32",
   "metadata": {},
   "outputs": [],
   "source": [
    "#analysing rush hours\n",
    "pivot1=pd.crosstab(index=uber_15['Hour'],columns=uber_15['Weekday'])\n",
    "pivot1"
   ]
  },
  {
   "cell_type": "code",
   "execution_count": null,
   "id": "a18bddb1",
   "metadata": {},
   "outputs": [],
   "source": [
    "pivot1.plot()"
   ]
  },
  {
   "cell_type": "code",
   "execution_count": null,
   "id": "97e1347b",
   "metadata": {},
   "outputs": [],
   "source": [
    "\n",
    "uber_foil=pd.read_csv(r'/Users/anu/Downloads/Datasets/Uber-Jan-Feb-FOIL.csv')"
   ]
  },
  {
   "cell_type": "code",
   "execution_count": null,
   "id": "ca721ebc",
   "metadata": {},
   "outputs": [],
   "source": [
    "uber_foil.head()\n"
   ]
  },
  {
   "cell_type": "code",
   "execution_count": null,
   "id": "abcd4106",
   "metadata": {},
   "outputs": [],
   "source": [
    "#which base number has most active vehicles using 5point summary(min,25%,50%75%and max) using Plotly box plots\n",
    "!pip install chart_studio\n",
    "!pip install plotly"
   ]
  },
  {
   "cell_type": "code",
   "execution_count": null,
   "id": "1d1593a5",
   "metadata": {},
   "outputs": [],
   "source": [
    "import chart_studio.plotly as py\n",
    "import plotly.graph_objs as go\n",
    "import plotly.express as px\n",
    "\n",
    "from plotly.offline import download_plotlyjs,init_notebook_mode,plot,iplot"
   ]
  },
  {
   "cell_type": "code",
   "execution_count": null,
   "id": "c8afddd3",
   "metadata": {},
   "outputs": [],
   "source": [
    "init_notebook_mode(connected=True)"
   ]
  },
  {
   "cell_type": "code",
   "execution_count": null,
   "id": "0050008f",
   "metadata": {},
   "outputs": [],
   "source": [
    "\n",
    "px.box(x='dispatching_base_number',y='active_vehicles',data_frame\n",
    "       =uber_foil)"
   ]
  },
  {
   "cell_type": "code",
   "execution_count": null,
   "id": "e45a8fb3",
   "metadata": {},
   "outputs": [],
   "source": [
    "px.violin(x='dispatching_base_number',y='active_vehicles',data_frame\n",
    "       =uber_foil)"
   ]
  },
  {
   "cell_type": "code",
   "execution_count": null,
   "id": "a899406a",
   "metadata": {},
   "outputs": [],
   "source": [
    "#collect all the data and make it ready for analysis\n",
    "files=sorted(os.listdir(r\"/Users/anu/Downloads/Datasets\"))[-8:]\n",
    "files"
   ]
  },
  {
   "cell_type": "code",
   "execution_count": null,
   "id": "c4728000",
   "metadata": {},
   "outputs": [],
   "source": [
    "files.remove('uber-raw-data-janjune-15.csv')\n",
    "\n",
    "files.remove('uber-raw-data-janjune-15_sample.csv')"
   ]
  },
  {
   "cell_type": "code",
   "execution_count": null,
   "id": "df8025ca",
   "metadata": {},
   "outputs": [],
   "source": [
    "files"
   ]
  },
  {
   "cell_type": "code",
   "execution_count": null,
   "id": "43fd0272",
   "metadata": {},
   "outputs": [],
   "source": [
    "import glob\n"
   ]
  },
  {
   "cell_type": "code",
   "execution_count": null,
   "id": "5ab93e15",
   "metadata": {},
   "outputs": [],
   "source": [
    "final=pd.DataFrame()\n",
    "\n",
    "path= r'/Users/anu/Downloads/Datasets'\n",
    "for file in files: \n",
    "    current_df=pd.read_csv(path+'/'+file)\n",
    "    final=pd.concat([current_df,final])\n"
   ]
  },
  {
   "cell_type": "code",
   "execution_count": null,
   "id": "2c28d536",
   "metadata": {},
   "outputs": [],
   "source": [
    "final.shape"
   ]
  },
  {
   "cell_type": "code",
   "execution_count": null,
   "id": "48f4904f",
   "metadata": {},
   "outputs": [],
   "source": [
    "final.drop_duplicates(inplace=True)\n",
    "final.shape"
   ]
  },
  {
   "cell_type": "code",
   "execution_count": null,
   "id": "4534572e",
   "metadata": {},
   "outputs": [],
   "source": [
    "final.head()"
   ]
  },
  {
   "cell_type": "code",
   "execution_count": null,
   "id": "6d94780f",
   "metadata": {},
   "outputs": [],
   "source": [
    "#spatial Analysis using longitute and latitude and heat maps\n",
    "spatial=final.groupby(['Lat','Lon'],as_index=False).size()\n",
    "spatial"
   ]
  },
  {
   "cell_type": "code",
   "execution_count": null,
   "id": "1de77670",
   "metadata": {},
   "outputs": [],
   "source": [
    "!pip install folium"
   ]
  },
  {
   "cell_type": "code",
   "execution_count": null,
   "id": "1b9f1ab2",
   "metadata": {
    "scrolled": false
   },
   "outputs": [],
   "source": [
    "import folium as fl\n",
    "basemap=fl.Map()\n",
    "basemap"
   ]
  },
  {
   "cell_type": "code",
   "execution_count": null,
   "id": "2f65731f",
   "metadata": {
    "scrolled": true
   },
   "outputs": [],
   "source": [
    "from folium.plugins import HeatMap\n",
    "HeatMap(spatial).add_to(basemap)\n",
    "basemap"
   ]
  },
  {
   "cell_type": "code",
   "execution_count": null,
   "id": "abd99b48",
   "metadata": {},
   "outputs": [],
   "source": [
    "final.columns\n",
    "final['Date/Time'] = pd.to_datetime(final['Date/Time'],format='%m%d%Y %H:%M:%S')\n",
    "final['Day']=final['Date/Time'].dt.day\n",
    "final['Weekday']=final['Date/Time'].dt.day_name()\n",
    "final['Hour']=final['Date/Time'].dt.hour"
   ]
  },
  {
   "cell_type": "code",
   "execution_count": null,
   "id": "16fa81ea",
   "metadata": {},
   "outputs": [],
   "source": [
    "final.head()"
   ]
  },
  {
   "cell_type": "code",
   "execution_count": null,
   "id": "f84bb4c4",
   "metadata": {},
   "outputs": [],
   "source": [
    "pairwise=final.groupby(['Day','Hour']).size().unstack()\n",
    "pairwise"
   ]
  },
  {
   "cell_type": "code",
   "execution_count": null,
   "id": "26050b16",
   "metadata": {},
   "outputs": [],
   "source": [
    "pairwise.style.background_gradient()"
   ]
  },
  {
   "cell_type": "code",
   "execution_count": null,
   "id": "f3158ae8",
   "metadata": {},
   "outputs": [],
   "source": [
    "#automate your analysis by creating functions\n",
    "def gen_pairwise(df,col1,col2):\n",
    "    pairwise=final.groupby([col1,col2]).size().unstack()\n",
    "    return pairwise.style.background_gradient()"
   ]
  },
  {
   "cell_type": "code",
   "execution_count": null,
   "id": "298bbb5b",
   "metadata": {},
   "outputs": [],
   "source": [
    "gen_pairwise(final,\"Weekday\",\"Hour\")"
   ]
  }
 ],
 "metadata": {
  "kernelspec": {
   "display_name": "Python 3 (ipykernel)",
   "language": "python",
   "name": "python3"
  },
  "language_info": {
   "codemirror_mode": {
    "name": "ipython",
    "version": 3
   },
   "file_extension": ".py",
   "mimetype": "text/x-python",
   "name": "python",
   "nbconvert_exporter": "python",
   "pygments_lexer": "ipython3",
   "version": "3.11.5"
  }
 },
 "nbformat": 4,
 "nbformat_minor": 5
}
